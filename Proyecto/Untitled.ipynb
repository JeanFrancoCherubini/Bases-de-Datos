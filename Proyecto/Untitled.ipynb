{
 "cells": [
  {
   "cell_type": "code",
   "execution_count": null,
   "metadata": {},
   "outputs": [],
   "source": []
  },
  {
   "cell_type": "code",
   "execution_count": 5,
   "metadata": {},
   "outputs": [
    {
     "name": "stdout",
     "output_type": "stream",
     "text": [
      "CREATE INDEX indicecarta0 ON vistaCartasBaraja USING btree(CARD_0);\n",
      "CREATE INDEX indicecarta1 ON vistaCartasBaraja USING btree(CARD_1);\n",
      "CREATE INDEX indicecarta2 ON vistaCartasBaraja USING btree(CARD_2);\n",
      "CREATE INDEX indicecarta3 ON vistaCartasBaraja USING btree(CARD_3);\n",
      "CREATE INDEX indicecarta4 ON vistaCartasBaraja USING btree(CARD_4);\n",
      "CREATE INDEX indicecarta5 ON vistaCartasBaraja USING btree(CARD_5);\n",
      "CREATE INDEX indicecarta6 ON vistaCartasBaraja USING btree(CARD_6);\n",
      "CREATE INDEX indicecarta7 ON vistaCartasBaraja USING btree(CARD_7);\n",
      "CREATE INDEX indicecarta8 ON vistaCartasBaraja USING btree(CARD_8);\n",
      "CREATE INDEX indicecarta9 ON vistaCartasBaraja USING btree(CARD_9);\n",
      "CREATE INDEX indicecarta10 ON vistaCartasBaraja USING btree(CARD_10);\n",
      "CREATE INDEX indicecarta11 ON vistaCartasBaraja USING btree(CARD_11);\n",
      "CREATE INDEX indicecarta12 ON vistaCartasBaraja USING btree(CARD_12);\n",
      "CREATE INDEX indicecarta13 ON vistaCartasBaraja USING btree(CARD_13);\n",
      "CREATE INDEX indicecarta14 ON vistaCartasBaraja USING btree(CARD_14);\n",
      "CREATE INDEX indicecarta15 ON vistaCartasBaraja USING btree(CARD_15);\n",
      "CREATE INDEX indicecarta16 ON vistaCartasBaraja USING btree(CARD_16);\n",
      "CREATE INDEX indicecarta17 ON vistaCartasBaraja USING btree(CARD_17);\n",
      "CREATE INDEX indicecarta18 ON vistaCartasBaraja USING btree(CARD_18);\n",
      "CREATE INDEX indicecarta19 ON vistaCartasBaraja USING btree(CARD_19);\n",
      "CREATE INDEX indicecarta20 ON vistaCartasBaraja USING btree(CARD_20);\n",
      "CREATE INDEX indicecarta21 ON vistaCartasBaraja USING btree(CARD_21);\n",
      "CREATE INDEX indicecarta22 ON vistaCartasBaraja USING btree(CARD_22);\n",
      "CREATE INDEX indicecarta23 ON vistaCartasBaraja USING btree(CARD_23);\n",
      "CREATE INDEX indicecarta24 ON vistaCartasBaraja USING btree(CARD_24);\n",
      "CREATE INDEX indicecarta25 ON vistaCartasBaraja USING btree(CARD_25);\n",
      "CREATE INDEX indicecarta26 ON vistaCartasBaraja USING btree(CARD_26);\n",
      "CREATE INDEX indicecarta27 ON vistaCartasBaraja USING btree(CARD_27);\n",
      "CREATE INDEX indicecarta28 ON vistaCartasBaraja USING btree(CARD_28);\n",
      "CREATE INDEX indicecarta29 ON vistaCartasBaraja USING btree(CARD_29);\n"
     ]
    }
   ],
   "source": [
    "for i in range(30):\n",
    "    print('CREATE INDEX indicecarta'+str(i)+' ON vistaCartasBaraja USING btree(CARD_'+str(i)+');')"
   ]
  },
  {
   "cell_type": "code",
   "execution_count": null,
   "metadata": {},
   "outputs": [],
   "source": [
    "for i in range(30):\n",
    "    print('64=CARD_'+str(i)+' OR')"
   ]
  }
 ],
 "metadata": {
  "kernelspec": {
   "display_name": "Python 3",
   "language": "python",
   "name": "python3"
  },
  "language_info": {
   "codemirror_mode": {
    "name": "ipython",
    "version": 3
   },
   "file_extension": ".py",
   "mimetype": "text/x-python",
   "name": "python",
   "nbconvert_exporter": "python",
   "pygments_lexer": "ipython3",
   "version": "3.6.5"
  }
 },
 "nbformat": 4,
 "nbformat_minor": 2
}
